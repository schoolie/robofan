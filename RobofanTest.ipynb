{
 "cells": [
  {
   "cell_type": "code",
   "execution_count": null,
   "metadata": {},
   "outputs": [],
   "source": [
    "%load_ext autoreload\n",
    "from IPython.core.display import display, HTML\n",
    "display(HTML(\"<style>.container { width:95% !important; }</style>\"))"
   ]
  },
  {
   "cell_type": "code",
   "execution_count": null,
   "metadata": {},
   "outputs": [],
   "source": [
    "%load_ext line_profiler"
   ]
  },
  {
   "cell_type": "code",
   "execution_count": null,
   "metadata": {},
   "outputs": [],
   "source": [
    "from stepper.driver import move\n",
    "import time"
   ]
  },
  {
   "cell_type": "code",
   "execution_count": null,
   "metadata": {},
   "outputs": [],
   "source": [
    "%autoreload 2\n",
    "from pi_py_darknet.darknet import initialize, detect\n",
    "import cv2\n",
    "from IPython.display import Image, display"
   ]
  },
  {
   "cell_type": "code",
   "execution_count": null,
   "metadata": {},
   "outputs": [],
   "source": [
    "from picamera import PiCamera\n",
    "import time"
   ]
  },
  {
   "cell_type": "code",
   "execution_count": null,
   "metadata": {},
   "outputs": [],
   "source": [
    "## Initialize darknet\n",
    "net, meta = initialize()"
   ]
  },
  {
   "cell_type": "code",
   "execution_count": null,
   "metadata": {},
   "outputs": [],
   "source": [
    "## Initialize camera\n",
    "camera = PiCamera()\n",
    "camera.rotation = 180\n",
    "camera.resolution = (640, 480)\n",
    "time.sleep(2)"
   ]
  },
  {
   "cell_type": "code",
   "execution_count": null,
   "metadata": {},
   "outputs": [],
   "source": [
    "move(1, 0)"
   ]
  },
  {
   "cell_type": "code",
   "execution_count": null,
   "metadata": {},
   "outputs": [],
   "source": [
    "img_filename = 'capture.jpg'\n",
    "\n",
    "camera.capture(img_filename)"
   ]
  },
  {
   "cell_type": "code",
   "execution_count": null,
   "metadata": {},
   "outputs": [],
   "source": [
    "def detect_people(img_filename):\n",
    "    \"\"\"Basic person detector. Runs yolo model on a file, filters result to only return 'person' \"\"\"\n",
    "    \n",
    "    results = detect(net, meta, bytes(img_filename, 'utf-8'))\n",
    "    \n",
    "    people = []\n",
    "    \n",
    "    for cat, score, bounds in results:\n",
    "        if cat == b'person':\n",
    "            \n",
    "            x, y, w, h = bounds\n",
    "            \n",
    "            center = (int(x), int(y))\n",
    "            size = (w, h)\n",
    "            top_left = (int(x - w / 2), int(y - h / 2))\n",
    "            bottom_right = (int(x + w / 2), int(y + h / 2))\n",
    "            target = (int(x), int(y-h/6))\n",
    "            \n",
    "            people.append(dict(\n",
    "                category=cat.decode(\"utf-8\"), \n",
    "                score=score, \n",
    "                center=center,\n",
    "                top_left=top_left,\n",
    "                bottom_right=bottom_right,\n",
    "                target=target,\n",
    "            ))\n",
    "            \n",
    "    return people\n",
    "\n"
   ]
  },
  {
   "cell_type": "code",
   "execution_count": null,
   "metadata": {},
   "outputs": [],
   "source": [
    "def label(img_filename, people):\n",
    "    \"\"\" Uses opencv to annotate image with bounding boxes and labels of detected objects \"\"\"\n",
    "    \n",
    "    img = cv2.imread(img_filename)\n",
    "\n",
    "    for n, person in enumerate(people):\n",
    "\n",
    "        cv2.rectangle(img, person['top_left'], person['bottom_right'], (255, 0, 0), thickness=2)\n",
    "        \n",
    "        cv2.circle(img, person['target'], 3, (255,255,0)) ## target torso\n",
    "        \n",
    "        label = '{}[{}]:{:06.3f}'.format(person['category'], n, person['score']*100)\n",
    "        cv2.putText(img, label, person['center'], cv2.FONT_HERSHEY_COMPLEX, 1, (255,255,0))\n",
    "    \n",
    "    return img"
   ]
  },
  {
   "cell_type": "code",
   "execution_count": null,
   "metadata": {
    "scrolled": true
   },
   "outputs": [],
   "source": [
    "def test_run(result_widget=None, text_widget=None):\n",
    "    \n",
    "    n = 0\n",
    "    predictions = []\n",
    "    file_found = True\n",
    "    while file_found and n < 10:\n",
    "\n",
    "        img_filename = 'test_captures/raw_{}.jpg'.format(n+20)\n",
    "\n",
    "        try:\n",
    "            people = process_image(img_filename, n=n, result_widget=result_widget, text_widget=text_widget)\n",
    "            \n",
    "        except FileNotFoundError:\n",
    "            file_found = False\n",
    "        n += 1\n",
    "        \n",
    "def run(result_widget=None, text_widget=None):\n",
    "    n = 0\n",
    "    predictions = []\n",
    "    \n",
    "    while True:\n",
    "\n",
    "        img_filename = 'capture.jpg'\n",
    "        \n",
    "        camera.capture(img_filename)\n",
    "\n",
    "        people = process_image(img_filename, n=n, result_widget=result_widget, text_widget=text_widget)\n",
    "        \n",
    "        n += 1\n",
    "        \n",
    "def process_image(img_filename, result_widget=None, text_widget=None, n=0):\n",
    "    \n",
    "    start_time = time.time()\n",
    "\n",
    "    people = detect_people(img_filename)\n",
    "\n",
    "    if result_widget is not None:\n",
    "        ## Label image with OpenCV and save\n",
    "        img = label(img_filename, people)\n",
    "        out_file = 'results/test_{}.jpg'.format(n)\n",
    "        cv2.imwrite(out_file, img)\n",
    "#         display(Image(filename=out_file, width=640, height=480))\n",
    "        \n",
    "        file = open(out_file, \"rb\")\n",
    "        image = file.read()\n",
    "        result_widget.value = image\n",
    "\n",
    "    ## Drive stepper\n",
    "    if len(people) > 0:\n",
    "        img_width = 640\n",
    "        target_person = people[0]\n",
    "        target_x, target_y = target_person['target']\n",
    "\n",
    "        gain = 1/240 ## rough estimate of 'revolutions' per pixel\n",
    "        error = abs(target_x - img_width / 2)\n",
    "        pterm = error * gain\n",
    "        \n",
    "        if target_x < img_width * 0.45:\n",
    "            text_widget.value = 'Person detected at {}: moving right'.format(target_x)\n",
    "            move(pterm, 1)\n",
    "            \n",
    "        elif target_x > img_width * 0.55:\n",
    "            text_widget.value = 'Person detected at {}: moving left'.format(target_x)\n",
    "            move(pterm, 0)\n",
    "\n",
    "\n",
    "    elapsed_time = time.time() - start_time\n",
    "    print(n, len(people), '{:5.2f} seconds'.format(elapsed_time))\n",
    "    \n",
    "    return people\n"
   ]
  },
  {
   "cell_type": "code",
   "execution_count": null,
   "metadata": {},
   "outputs": [],
   "source": [
    "import ipywidgets as widgets\n",
    "\n",
    "file = open('results/test_0.jpg', \"rb\")\n",
    "image = file.read()\n",
    "\n",
    "result_widget = widgets.Image(\n",
    "    value=image,\n",
    "    format='png',\n",
    "    width=1024,\n",
    "    height=768,\n",
    ")\n",
    "\n",
    "\n",
    "text_widget = widgets.HTML(\n",
    "    value='Init',\n",
    "    placeholder='',\n",
    "    description='',\n",
    ")\n",
    "\n",
    "widgets.VBox([text_widget, result_widget])\n"
   ]
  },
  {
   "cell_type": "code",
   "execution_count": null,
   "metadata": {
    "scrolled": true
   },
   "outputs": [],
   "source": [
    "run(result_widget=result_widget, text_widget=text_widget)"
   ]
  },
  {
   "cell_type": "code",
   "execution_count": null,
   "metadata": {},
   "outputs": [],
   "source": [
    "test_run(result_widget=result_widget, text_widget=text_widget)"
   ]
  },
  {
   "cell_type": "code",
   "execution_count": null,
   "metadata": {},
   "outputs": [],
   "source": [
    "%lprun -f test_run test_run()"
   ]
  },
  {
   "cell_type": "code",
   "execution_count": null,
   "metadata": {},
   "outputs": [],
   "source": []
  }
 ],
 "metadata": {
  "kernelspec": {
   "display_name": "Python 3",
   "language": "python",
   "name": "python3"
  },
  "language_info": {
   "codemirror_mode": {
    "name": "ipython",
    "version": 3
   },
   "file_extension": ".py",
   "mimetype": "text/x-python",
   "name": "python",
   "nbconvert_exporter": "python",
   "pygments_lexer": "ipython3",
   "version": "3.5.4"
  }
 },
 "nbformat": 4,
 "nbformat_minor": 2
}
