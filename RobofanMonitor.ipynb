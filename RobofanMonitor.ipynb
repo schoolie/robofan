{
 "cells": [
  {
   "cell_type": "code",
   "execution_count": null,
   "metadata": {},
   "outputs": [],
   "source": [
    "%load_ext autoreload\n",
    "from IPython.core.display import display, HTML\n",
    "display(HTML(\"<style>.container { width:95% !important; }</style>\"))"
   ]
  },
  {
   "cell_type": "code",
   "execution_count": null,
   "metadata": {
    "scrolled": false
   },
   "outputs": [],
   "source": [
    "import time\n",
    "import ipywidgets as widgets\n",
    "\n",
    "file = open('capture.jpg', \"rb\")\n",
    "image = file.read()\n",
    "\n",
    "result_widget = widgets.Image(\n",
    "    value=image,\n",
    "    format='png',\n",
    "    width=1024,\n",
    "    height=768,\n",
    ")\n",
    "\n",
    "\n",
    "text_widget = widgets.HTML(\n",
    "    value='Init',\n",
    "    placeholder='',\n",
    "    description='',\n",
    ")\n",
    "\n",
    "widgets.VBox([text_widget, result_widget])\n"
   ]
  },
  {
   "cell_type": "code",
   "execution_count": null,
   "metadata": {},
   "outputs": [],
   "source": [
    "while True:\n",
    "    file = open('predicted.jpg', \"rb\")\n",
    "    image = file.read()\n",
    "    result_widget.value = image\n",
    "    time.sleep(0.5)"
   ]
  },
  {
   "cell_type": "code",
   "execution_count": null,
   "metadata": {},
   "outputs": [],
   "source": []
  }
 ],
 "metadata": {
  "kernelspec": {
   "display_name": "Python 3",
   "language": "python",
   "name": "python3"
  }
 },
 "nbformat": 4,
 "nbformat_minor": 2
}
