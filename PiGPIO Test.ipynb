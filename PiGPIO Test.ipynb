{
 "cells": [
  {
   "cell_type": "code",
   "execution_count": 1,
   "metadata": {},
   "outputs": [],
   "source": [
    "## Generate pgpio waveform\n",
    "import pigpio\n",
    "\n",
    "STEP=18\n",
    "DIR=23\n",
    "# ENABLE=24\n",
    "\n",
    "NONE=0\n",
    "\n",
    "MICROS=1000\n",
    "\n",
    "pi = pigpio.pi()"
   ]
  },
  {
   "cell_type": "code",
   "execution_count": 2,
   "metadata": {},
   "outputs": [
    {
     "data": {
      "text/plain": [
       "0"
      ]
     },
     "execution_count": 2,
     "metadata": {},
     "output_type": "execute_result"
    }
   ],
   "source": [
    "pi.wave_clear() # start a new waveform"
   ]
  },
  {
   "cell_type": "code",
   "execution_count": 3,
   "metadata": {},
   "outputs": [
    {
     "data": {
      "text/plain": [
       "0"
      ]
     },
     "execution_count": 3,
     "metadata": {},
     "output_type": "execute_result"
    }
   ],
   "source": [
    "pi.set_mode(STEP, pigpio.OUTPUT)\n",
    "pi.set_mode(DIR, pigpio.OUTPUT)\n",
    "# pi.set_mode(ENABLE, pigpio.OUTPUT)"
   ]
  },
  {
   "cell_type": "code",
   "execution_count": 185,
   "metadata": {},
   "outputs": [],
   "source": [
    "step=1"
   ]
  },
  {
   "cell_type": "code",
   "execution_count": 231,
   "metadata": {},
   "outputs": [
    {
     "data": {
      "text/plain": [
       "0"
      ]
     },
     "execution_count": 231,
     "metadata": {},
     "output_type": "execute_result"
    }
   ],
   "source": [
    "step = not(step)\n",
    "pi.write(STEP,step)\n",
    "pi.write(DIR,0)\n",
    "# pi.write(ENABLE,0)"
   ]
  },
  {
   "cell_type": "code",
   "execution_count": 254,
   "metadata": {},
   "outputs": [
    {
     "data": {
      "text/plain": [
       "6401"
      ]
     },
     "execution_count": 254,
     "metadata": {},
     "output_type": "execute_result"
    }
   ],
   "source": [
    "\n",
    "\n",
    "MICROS=800\n",
    "\n",
    "\n",
    "pi.wave_clear() # start a new waveform\n",
    "\n",
    "# pi.write(DIR,0)\n",
    "# pi.write(ENABLE,0)\n",
    "\n",
    "wf=[]\n",
    "\n",
    "for n in range(1600):\n",
    "    wf.append(pigpio.pulse(1<<STEP, 0, 1 * MICROS))\n",
    "    wf.append(pigpio.pulse(0, 1<<STEP, 1 * MICROS))\n",
    "    \n",
    "pi.wave_add_generic(wf)\n",
    "\n",
    "wid = pi.wave_create()\n",
    "pi.wave_send_once(wid)\n"
   ]
  },
  {
   "cell_type": "code",
   "execution_count": 18,
   "metadata": {},
   "outputs": [
    {
     "ename": "KeyboardInterrupt",
     "evalue": "",
     "output_type": "error",
     "traceback": [
      "\u001b[0;31m---------------------------------------------------------------------------\u001b[0m",
      "\u001b[0;31mKeyboardInterrupt\u001b[0m                         Traceback (most recent call last)",
      "\u001b[0;32m<ipython-input-18-723b07f2e3fc>\u001b[0m in \u001b[0;36m<module>\u001b[0;34m\u001b[0m\n\u001b[1;32m      8\u001b[0m     \u001b[0mpi\u001b[0m\u001b[0;34m.\u001b[0m\u001b[0mwrite\u001b[0m\u001b[0;34m(\u001b[0m\u001b[0mSTEP\u001b[0m\u001b[0;34m,\u001b[0m\u001b[0;36m0\u001b[0m\u001b[0;34m)\u001b[0m\u001b[0;34m\u001b[0m\u001b[0;34m\u001b[0m\u001b[0m\n\u001b[1;32m      9\u001b[0m \u001b[0;34m\u001b[0m\u001b[0m\n\u001b[0;32m---> 10\u001b[0;31m     \u001b[0mtime\u001b[0m\u001b[0;34m.\u001b[0m\u001b[0msleep\u001b[0m\u001b[0;34m(\u001b[0m\u001b[0;36m0.5\u001b[0m\u001b[0;34m)\u001b[0m\u001b[0;34m\u001b[0m\u001b[0;34m\u001b[0m\u001b[0m\n\u001b[0m",
      "\u001b[0;31mKeyboardInterrupt\u001b[0m: "
     ]
    }
   ],
   "source": [
    "import time\n",
    "\n",
    "for n in range(30):\n",
    "    pi.write(STEP,1)\n",
    "    \n",
    "    time.sleep(0.5)\n",
    "    \n",
    "    pi.write(STEP,0)\n",
    "    \n",
    "    time.sleep(0.5)"
   ]
  },
  {
   "cell_type": "code",
   "execution_count": null,
   "metadata": {},
   "outputs": [],
   "source": [
    "pi.stop()"
   ]
  },
  {
   "cell_type": "code",
   "execution_count": 2,
   "metadata": {},
   "outputs": [
    {
     "data": {
      "text/plain": [
       "[<pigpio.pulse at 0xb33e6df0>,\n",
       " <pigpio.pulse at 0xb33e6c30>,\n",
       " <pigpio.pulse at 0xb3388650>,\n",
       " <pigpio.pulse at 0xb3388fb0>,\n",
       " <pigpio.pulse at 0xb33886d0>,\n",
       " <pigpio.pulse at 0xb3388ff0>,\n",
       " <pigpio.pulse at 0xb3399030>,\n",
       " <pigpio.pulse at 0xb3399050>,\n",
       " <pigpio.pulse at 0xb3399070>,\n",
       " <pigpio.pulse at 0xb3388fd0>,\n",
       " <pigpio.pulse at 0xb3399090>,\n",
       " <pigpio.pulse at 0xb33990b0>,\n",
       " <pigpio.pulse at 0xb33990d0>,\n",
       " <pigpio.pulse at 0xb33990f0>,\n",
       " <pigpio.pulse at 0xb3399110>,\n",
       " <pigpio.pulse at 0xb3399130>,\n",
       " <pigpio.pulse at 0xb3399150>,\n",
       " <pigpio.pulse at 0xb3399170>,\n",
       " <pigpio.pulse at 0xb3399190>,\n",
       " <pigpio.pulse at 0xb33991b0>]"
      ]
     },
     "execution_count": 2,
     "metadata": {},
     "output_type": "execute_result"
    }
   ],
   "source": [
    "wf\n"
   ]
  },
  {
   "cell_type": "code",
   "execution_count": 2,
   "metadata": {},
   "outputs": [
    {
     "data": {
      "text/plain": [
       "41"
      ]
     },
     "execution_count": 2,
     "metadata": {},
     "output_type": "execute_result"
    }
   ],
   "source": [
    "## Generate pgpio waveform\n",
    "import pigpio\n",
    "\n",
    "GPIO=23\n",
    "NONE=0\n",
    "\n",
    "MICROS=1000\n",
    "\n",
    "pi = pigpio.pi()\n",
    "\n",
    "pi.wave_clear() # start a new waveform\n",
    "\n",
    "pi.set_mode(GPIO, pigpio.OUTPUT)\n",
    "\n",
    "pi.wave_clear() # start a new waveform\n",
    "\n",
    "wf=[]\n",
    "\n",
    "for n in range(10):\n",
    "    wf.append(pigpio.pulse(1<<GPIO, 0, 1 * MICROS))\n",
    "    wf.append(pigpio.pulse(0, 1<<GPIO, 1 * MICROS))\n",
    "    \n",
    "pi.wave_add_generic(wf)\n",
    "\n",
    "wid = pi.wave_create()\n",
    "pi.wave_send_repeat(wid)\n",
    "\n",
    "# while pi.wave_tx_busy():\n",
    "#     try:\n",
    "#         pass\n",
    "#     except:\n",
    "#         pi.stop()\n"
   ]
  },
  {
   "cell_type": "code",
   "execution_count": null,
   "metadata": {},
   "outputs": [
    {
     "name": "stderr",
     "output_type": "stream",
     "text": [
      "/home/pi/.local/lib/python3.7/site-packages/ipykernel_launcher.py:15: RuntimeWarning: This channel is already in use, continuing anyway.  Use GPIO.setwarnings(False) to disable warnings.\n",
      "  from ipykernel import kernelapp as app\n"
     ]
    }
   ],
   "source": [
    "import time\n",
    "import RPi.GPIO as GPIO\n",
    "\n",
    "\n",
    "\n",
    "GPIO.setmode(GPIO.BCM)\n",
    "\n",
    "pins = {\n",
    "    'step':   18,\n",
    "    'dir':    23,\n",
    "    'enable': 24,\n",
    "}\n",
    "\n",
    "for name, pin_num in pins.items():\n",
    "    GPIO.setup(pin_num, GPIO.OUT)\n",
    "\n",
    "microstep_resolution = 1\n",
    "steps_per_rev = 200\n",
    "rev_per_sec = 1\n",
    "\n",
    "step_delay = 0.001\n",
    "\n",
    "while True:\n",
    "    \n",
    "    try:\n",
    "        GPIO.output(pins['step'], GPIO.HIGH)\n",
    "        time.sleep(step_delay)\n",
    "        GPIO.output(pins['step'], GPIO.LOW)\n",
    "        time.sleep(step_delay)\n",
    "    \n",
    "    except KeyboardInterrupt:\n",
    "        break\n",
    "\n",
    "\n",
    "GPIO.cleanup() # cleanup all GPIO\n"
   ]
  },
  {
   "cell_type": "code",
   "execution_count": null,
   "metadata": {},
   "outputs": [],
   "source": []
  }
 ],
 "metadata": {
  "kernelspec": {
   "display_name": "Python 3",
   "language": "python",
   "name": "python3"
  },
  "language_info": {
   "codemirror_mode": {
    "name": "ipython",
    "version": 3
   },
   "file_extension": ".py",
   "mimetype": "text/x-python",
   "name": "python",
   "nbconvert_exporter": "python",
   "pygments_lexer": "ipython3",
   "version": "3.7.3"
  }
 },
 "nbformat": 4,
 "nbformat_minor": 4
}
