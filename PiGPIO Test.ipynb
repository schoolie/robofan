{
 "cells": [
  {
   "cell_type": "code",
   "execution_count": null,
   "metadata": {},
   "outputs": [],
   "source": [
    "## Generate pgpio waveform\n",
    "import pigpio\n",
    "\n",
    "STEP=18\n",
    "DIR=23\n",
    "# ENABLE=24\n",
    "\n",
    "NONE=0\n",
    "\n",
    "MICROS=1000\n",
    "\n",
    "pi = pigpio.pi()"
   ]
  },
  {
   "cell_type": "code",
   "execution_count": null,
   "metadata": {},
   "outputs": [],
   "source": [
    "pi.wave_clear() # start a new waveform"
   ]
  },
  {
   "cell_type": "code",
   "execution_count": null,
   "metadata": {},
   "outputs": [],
   "source": [
    "pi.set_mode(STEP, pigpio.OUTPUT)\n",
    "pi.set_mode(DIR, pigpio.OUTPUT)\n",
    "# pi.set_mode(ENABLE, pigpio.OUTPUT)"
   ]
  },
  {
   "cell_type": "code",
   "execution_count": null,
   "metadata": {},
   "outputs": [],
   "source": [
    "step=1"
   ]
  },
  {
   "cell_type": "code",
   "execution_count": null,
   "metadata": {},
   "outputs": [],
   "source": [
    "step = not(step)\n",
    "pi.write(STEP,step)\n",
    "pi.write(DIR,1)\n",
    "# pi.write(ENABLE,0)"
   ]
  },
  {
   "cell_type": "code",
   "execution_count": null,
   "metadata": {},
   "outputs": [],
   "source": [
    "\n",
    "\n",
    "MICROS=800\n",
    "\n",
    "\n",
    "pi.wave_clear() # start a new waveform\n",
    "\n",
    "wf=[]\n",
    "\n",
    "for n in range(1600):\n",
    "    wf.append(pigpio.pulse(1<<STEP, 0, 1 * MICROS))\n",
    "    wf.append(pigpio.pulse(0, 1<<STEP, 1 * MICROS))\n",
    "    \n",
    "pi.wave_add_generic(wf)\n",
    "\n",
    "wid = pi.wave_create()\n",
    "pi.wave_send_once(wid)\n"
   ]
  },
  {
   "cell_type": "code",
   "execution_count": null,
   "metadata": {},
   "outputs": [],
   "source": [
    "import time\n",
    "\n",
    "for n in range(30):\n",
    "    pi.write(STEP,1)\n",
    "    \n",
    "    time.sleep(0.5)\n",
    "    \n",
    "    pi.write(STEP,0)\n",
    "    \n",
    "    time.sleep(0.5)"
   ]
  },
  {
   "cell_type": "code",
   "execution_count": null,
   "metadata": {},
   "outputs": [],
   "source": [
    "pi.stop()"
   ]
  },
  {
   "cell_type": "code",
   "execution_count": null,
   "metadata": {},
   "outputs": [],
   "source": [
    "wf\n"
   ]
  },
  {
   "cell_type": "code",
   "execution_count": null,
   "metadata": {},
   "outputs": [],
   "source": [
    "## Generate pgpio waveform\n",
    "import pigpio\n",
    "\n",
    "GPIO=23\n",
    "NONE=0\n",
    "\n",
    "MICROS=1000\n",
    "\n",
    "pi = pigpio.pi()\n",
    "\n",
    "pi.wave_clear() # start a new waveform\n",
    "\n",
    "pi.set_mode(GPIO, pigpio.OUTPUT)\n",
    "\n",
    "pi.wave_clear() # start a new waveform\n",
    "\n",
    "wf=[]\n",
    "\n",
    "for n in range(10):\n",
    "    wf.append(pigpio.pulse(1<<GPIO, 0, 1 * MICROS))\n",
    "    wf.append(pigpio.pulse(0, 1<<GPIO, 1 * MICROS))\n",
    "    \n",
    "pi.wave_add_generic(wf)\n",
    "\n",
    "wid = pi.wave_create()\n",
    "pi.wave_send_repeat(wid)\n",
    "\n",
    "# while pi.wave_tx_busy():\n",
    "#     try:\n",
    "#         pass\n",
    "#     except:\n",
    "#         pi.stop()\n"
   ]
  },
  {
   "cell_type": "code",
   "execution_count": null,
   "metadata": {},
   "outputs": [],
   "source": [
    "import time\n",
    "import RPi.GPIO as GPIO\n",
    "\n",
    "\n",
    "\n",
    "GPIO.setmode(GPIO.BCM)\n",
    "\n",
    "pins = {\n",
    "    'step':   18,\n",
    "    'dir':    23,\n",
    "    'enable': 24,\n",
    "}\n",
    "\n",
    "for name, pin_num in pins.items():\n",
    "    GPIO.setup(pin_num, GPIO.OUT)\n",
    "\n",
    "microstep_resolution = 1\n",
    "steps_per_rev = 200\n",
    "rev_per_sec = 1\n",
    "\n",
    "step_delay = 0.001\n",
    "\n",
    "while True:\n",
    "    \n",
    "    try:\n",
    "        GPIO.output(pins['step'], GPIO.HIGH)\n",
    "        time.sleep(step_delay)\n",
    "        GPIO.output(pins['step'], GPIO.LOW)\n",
    "        time.sleep(step_delay)\n",
    "    \n",
    "    except KeyboardInterrupt:\n",
    "        break\n",
    "\n",
    "\n",
    "GPIO.cleanup() # cleanup all GPIO\n"
   ]
  },
  {
   "cell_type": "code",
   "execution_count": null,
   "metadata": {},
   "outputs": [],
   "source": []
  }
 ],
 "metadata": {
  "kernelspec": {
   "display_name": "Python 3",
   "language": "python",
   "name": "python3"
  },
  "language_info": {
   "codemirror_mode": {
    "name": "ipython",
    "version": 3
   },
   "file_extension": ".py",
   "mimetype": "text/x-python",
   "name": "python",
   "nbconvert_exporter": "python",
   "pygments_lexer": "ipython3",
   "version": "3.7.3"
  }
 },
 "nbformat": 4,
 "nbformat_minor": 4
}
